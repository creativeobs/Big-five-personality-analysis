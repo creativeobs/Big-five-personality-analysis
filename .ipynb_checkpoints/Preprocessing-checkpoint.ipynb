{
 "cells": [
  {
   "cell_type": "code",
   "execution_count": 1,
   "id": "0aca97e2",
   "metadata": {},
   "outputs": [],
   "source": [
    "import numpy as np\n",
    "import pandas as pd\n",
    "import matplotlib.pyplot as plt\n",
    "import seaborn as sns"
   ]
  },
  {
   "cell_type": "code",
   "execution_count": 2,
   "id": "33abcc0c",
   "metadata": {
    "scrolled": true
   },
   "outputs": [
    {
     "data": {
      "text/html": [
       "<div>\n",
       "<style scoped>\n",
       "    .dataframe tbody tr th:only-of-type {\n",
       "        vertical-align: middle;\n",
       "    }\n",
       "\n",
       "    .dataframe tbody tr th {\n",
       "        vertical-align: top;\n",
       "    }\n",
       "\n",
       "    .dataframe thead th {\n",
       "        text-align: right;\n",
       "    }\n",
       "</style>\n",
       "<table border=\"1\" class=\"dataframe\">\n",
       "  <thead>\n",
       "    <tr style=\"text-align: right;\">\n",
       "      <th></th>\n",
       "      <th>Age</th>\n",
       "      <th>Gender</th>\n",
       "      <th>Year</th>\n",
       "      <th>Course</th>\n",
       "      <th>Last Semester GWA (Generated Weighted Average)?</th>\n",
       "      <th>1. Have a rich vocabulary</th>\n",
       "      <th>2. Have difficulty understanding abstract ideas</th>\n",
       "      <th>3. Have a vivid imagination</th>\n",
       "      <th>4. Am not interested in abstract ideas</th>\n",
       "      <th>5. Have excellent ideas</th>\n",
       "      <th>...</th>\n",
       "      <th>1. Get stressed out easily</th>\n",
       "      <th>2. Am relaxed most of the time</th>\n",
       "      <th>3. Worry about things</th>\n",
       "      <th>4. Seldom feel blue</th>\n",
       "      <th>5. Am easily disturbed</th>\n",
       "      <th>6. Get upset easily</th>\n",
       "      <th>7. Change my mood a lot</th>\n",
       "      <th>8. Have frequent mood swings</th>\n",
       "      <th>9. Get irritated easily</th>\n",
       "      <th>10. Often feel blue</th>\n",
       "    </tr>\n",
       "  </thead>\n",
       "  <tbody>\n",
       "    <tr>\n",
       "      <th>0</th>\n",
       "      <td>21</td>\n",
       "      <td>Male</td>\n",
       "      <td>Third</td>\n",
       "      <td>Bachelor of Science in Computational Data Science</td>\n",
       "      <td>1.21</td>\n",
       "      <td>4</td>\n",
       "      <td>5</td>\n",
       "      <td>3</td>\n",
       "      <td>3</td>\n",
       "      <td>4</td>\n",
       "      <td>...</td>\n",
       "      <td>3</td>\n",
       "      <td>3</td>\n",
       "      <td>2</td>\n",
       "      <td>3</td>\n",
       "      <td>3</td>\n",
       "      <td>3</td>\n",
       "      <td>3</td>\n",
       "      <td>2</td>\n",
       "      <td>2</td>\n",
       "      <td>4</td>\n",
       "    </tr>\n",
       "    <tr>\n",
       "      <th>1</th>\n",
       "      <td>22</td>\n",
       "      <td>Female</td>\n",
       "      <td>Third</td>\n",
       "      <td>Bachelor of Science in Computational and Data ...</td>\n",
       "      <td>1.43</td>\n",
       "      <td>4</td>\n",
       "      <td>2</td>\n",
       "      <td>4</td>\n",
       "      <td>2</td>\n",
       "      <td>3</td>\n",
       "      <td>...</td>\n",
       "      <td>3</td>\n",
       "      <td>4</td>\n",
       "      <td>3</td>\n",
       "      <td>3</td>\n",
       "      <td>2</td>\n",
       "      <td>2</td>\n",
       "      <td>2</td>\n",
       "      <td>1</td>\n",
       "      <td>2</td>\n",
       "      <td>2</td>\n",
       "    </tr>\n",
       "    <tr>\n",
       "      <th>2</th>\n",
       "      <td>21</td>\n",
       "      <td>Male</td>\n",
       "      <td>Third</td>\n",
       "      <td>Bachelor of Science in Computational and Data ...</td>\n",
       "      <td>1.30</td>\n",
       "      <td>5</td>\n",
       "      <td>2</td>\n",
       "      <td>5</td>\n",
       "      <td>5</td>\n",
       "      <td>3</td>\n",
       "      <td>...</td>\n",
       "      <td>5</td>\n",
       "      <td>2</td>\n",
       "      <td>5</td>\n",
       "      <td>5</td>\n",
       "      <td>3</td>\n",
       "      <td>4</td>\n",
       "      <td>5</td>\n",
       "      <td>5</td>\n",
       "      <td>5</td>\n",
       "      <td>4</td>\n",
       "    </tr>\n",
       "    <tr>\n",
       "      <th>3</th>\n",
       "      <td>22</td>\n",
       "      <td>Male</td>\n",
       "      <td>Third</td>\n",
       "      <td>Bachelor of Engineering Technology in Non-Dest...</td>\n",
       "      <td>1.75</td>\n",
       "      <td>3</td>\n",
       "      <td>2</td>\n",
       "      <td>3</td>\n",
       "      <td>1</td>\n",
       "      <td>4</td>\n",
       "      <td>...</td>\n",
       "      <td>4</td>\n",
       "      <td>3</td>\n",
       "      <td>5</td>\n",
       "      <td>4</td>\n",
       "      <td>4</td>\n",
       "      <td>2</td>\n",
       "      <td>1</td>\n",
       "      <td>1</td>\n",
       "      <td>4</td>\n",
       "      <td>4</td>\n",
       "    </tr>\n",
       "    <tr>\n",
       "      <th>4</th>\n",
       "      <td>20</td>\n",
       "      <td>Female</td>\n",
       "      <td>Second</td>\n",
       "      <td>Bachelor of Science in Business Administration</td>\n",
       "      <td>1.75</td>\n",
       "      <td>3</td>\n",
       "      <td>4</td>\n",
       "      <td>4</td>\n",
       "      <td>5</td>\n",
       "      <td>3</td>\n",
       "      <td>...</td>\n",
       "      <td>5</td>\n",
       "      <td>2</td>\n",
       "      <td>4</td>\n",
       "      <td>4</td>\n",
       "      <td>4</td>\n",
       "      <td>4</td>\n",
       "      <td>5</td>\n",
       "      <td>4</td>\n",
       "      <td>4</td>\n",
       "      <td>4</td>\n",
       "    </tr>\n",
       "  </tbody>\n",
       "</table>\n",
       "<p>5 rows × 55 columns</p>\n",
       "</div>"
      ],
      "text/plain": [
       "  Age  Gender    Year                                             Course  \\\n",
       "0  21    Male   Third  Bachelor of Science in Computational Data Science   \n",
       "1  22  Female   Third  Bachelor of Science in Computational and Data ...   \n",
       "2  21    Male   Third  Bachelor of Science in Computational and Data ...   \n",
       "3  22    Male   Third  Bachelor of Engineering Technology in Non-Dest...   \n",
       "4  20  Female  Second     Bachelor of Science in Business Administration   \n",
       "\n",
       "   Last Semester GWA (Generated Weighted Average)?  1. Have a rich vocabulary  \\\n",
       "0                                             1.21                          4   \n",
       "1                                             1.43                          4   \n",
       "2                                             1.30                          5   \n",
       "3                                             1.75                          3   \n",
       "4                                             1.75                          3   \n",
       "\n",
       "   2. Have difficulty understanding abstract ideas  \\\n",
       "0                                                5   \n",
       "1                                                2   \n",
       "2                                                2   \n",
       "3                                                2   \n",
       "4                                                4   \n",
       "\n",
       "   3. Have a vivid imagination  4. Am not interested in abstract ideas  \\\n",
       "0                            3                                       3   \n",
       "1                            4                                       2   \n",
       "2                            5                                       5   \n",
       "3                            3                                       1   \n",
       "4                            4                                       5   \n",
       "\n",
       "   5. Have excellent ideas  ...  1. Get stressed out easily  \\\n",
       "0                        4  ...                           3   \n",
       "1                        3  ...                           3   \n",
       "2                        3  ...                           5   \n",
       "3                        4  ...                           4   \n",
       "4                        3  ...                           5   \n",
       "\n",
       "   2. Am relaxed most of the time  3. Worry about things  4. Seldom feel blue  \\\n",
       "0                               3                      2                    3   \n",
       "1                               4                      3                    3   \n",
       "2                               2                      5                    5   \n",
       "3                               3                      5                    4   \n",
       "4                               2                      4                    4   \n",
       "\n",
       "   5. Am easily disturbed  6. Get upset easily  7. Change my mood a lot  \\\n",
       "0                       3                    3                        3   \n",
       "1                       2                    2                        2   \n",
       "2                       3                    4                        5   \n",
       "3                       4                    2                        1   \n",
       "4                       4                    4                        5   \n",
       "\n",
       "   8. Have frequent mood swings  9. Get irritated easily  10. Often feel blue  \n",
       "0                             2                        2                    4  \n",
       "1                             1                        2                    2  \n",
       "2                             5                        5                    4  \n",
       "3                             1                        4                    4  \n",
       "4                             4                        4                    4  \n",
       "\n",
       "[5 rows x 55 columns]"
      ]
     },
     "execution_count": 2,
     "metadata": {},
     "output_type": "execute_result"
    }
   ],
   "source": [
    "df = pd.read_csv('data/raw.csv')\n",
    "df = df.iloc[:, 2:]\n",
    "df.head()"
   ]
  },
  {
   "cell_type": "markdown",
   "id": "9cb17321",
   "metadata": {},
   "source": [
    "# Inspecting Age "
   ]
  },
  {
   "cell_type": "code",
   "execution_count": 3,
   "id": "ee0951b9",
   "metadata": {},
   "outputs": [
    {
     "data": {
      "text/plain": [
       "21            68\n",
       "20            27\n",
       "22             9\n",
       "23             3\n",
       "19             3\n",
       "20 yrs old     1\n",
       "Name: Age, dtype: int64"
      ]
     },
     "execution_count": 3,
     "metadata": {},
     "output_type": "execute_result"
    }
   ],
   "source": [
    "df['Age'].value_counts()"
   ]
  },
  {
   "cell_type": "code",
   "execution_count": 4,
   "id": "adfe1c8e",
   "metadata": {},
   "outputs": [],
   "source": [
    "df['Age'] = df['Age'].apply(lambda x: int(x.replace('20 yrs old', '20')))"
   ]
  },
  {
   "cell_type": "code",
   "execution_count": 5,
   "id": "d2a70687",
   "metadata": {},
   "outputs": [
    {
     "data": {
      "text/plain": [
       "array([21, 22, 20, 23, 19], dtype=int64)"
      ]
     },
     "execution_count": 5,
     "metadata": {},
     "output_type": "execute_result"
    }
   ],
   "source": [
    "df['Age'].unique()"
   ]
  },
  {
   "cell_type": "markdown",
   "id": "310e10a9",
   "metadata": {},
   "source": [
    "The data have some inappropriate data entry which is \"20 years old\". We transform it into 20 and all the values are converted into int"
   ]
  },
  {
   "cell_type": "markdown",
   "id": "2d81fbbb",
   "metadata": {},
   "source": [
    "# Inspecting Gender and Year"
   ]
  },
  {
   "cell_type": "code",
   "execution_count": 6,
   "id": "7d434428",
   "metadata": {},
   "outputs": [
    {
     "data": {
      "text/plain": [
       "Female               66\n",
       "Male                 40\n",
       "Prefer not to say     5\n",
       "Name: Gender, dtype: int64"
      ]
     },
     "execution_count": 6,
     "metadata": {},
     "output_type": "execute_result"
    }
   ],
   "source": [
    "df['Gender'].value_counts()"
   ]
  },
  {
   "cell_type": "code",
   "execution_count": 7,
   "id": "cbb7464b",
   "metadata": {},
   "outputs": [
    {
     "data": {
      "text/plain": [
       "Third     89\n",
       "Second    16\n",
       "First      4\n",
       "Fourth     2\n",
       "Name: Year, dtype: int64"
      ]
     },
     "execution_count": 7,
     "metadata": {},
     "output_type": "execute_result"
    }
   ],
   "source": [
    "df['Year'].value_counts()"
   ]
  },
  {
   "cell_type": "code",
   "execution_count": 8,
   "id": "bb26bbd2",
   "metadata": {},
   "outputs": [
    {
     "data": {
      "text/plain": [
       "Third     89\n",
       "Second    16\n",
       "First      4\n",
       "Fourth     2\n",
       "Name: Year, dtype: int64"
      ]
     },
     "execution_count": 8,
     "metadata": {},
     "output_type": "execute_result"
    }
   ],
   "source": [
    "df['Year'].value_counts()"
   ]
  },
  {
   "cell_type": "markdown",
   "id": "3f377960",
   "metadata": {},
   "source": [
    "Seems like there is no problem with these 2 features."
   ]
  },
  {
   "cell_type": "markdown",
   "id": "4e807606",
   "metadata": {},
   "source": [
    "# Inspecting Course Feature"
   ]
  },
  {
   "cell_type": "code",
   "execution_count": 9,
   "id": "1f47654d",
   "metadata": {},
   "outputs": [
    {
     "data": {
      "text/plain": [
       "Bachelor of Science in Computational and Data Sciences                9\n",
       "Bachelor of Science in Nursing                                        5\n",
       "Bachelor of Science in Accountancy                                    4\n",
       "Bachelor of Science in Computer Science                               4\n",
       "Bachelor of Science in Civil Engineering                              4\n",
       "                                                                     ..\n",
       "Bachelor of Science in Application  Development                       1\n",
       "Bachelor of Science in Computer Science major in Application          1\n",
       "Bachelor of Science in College of Computing in Information Science    1\n",
       "Bachelor in Multimedia Arts Major in Animation                        1\n",
       "Bachelor of Science in Medical Technology                             1\n",
       "Name: Course, Length: 73, dtype: int64"
      ]
     },
     "execution_count": 9,
     "metadata": {},
     "output_type": "execute_result"
    }
   ],
   "source": [
    "df['Course'].value_counts()"
   ]
  },
  {
   "cell_type": "code",
   "execution_count": 10,
   "id": "592371dc",
   "metadata": {},
   "outputs": [
    {
     "data": {
      "text/plain": [
       "73"
      ]
     },
     "execution_count": 10,
     "metadata": {},
     "output_type": "execute_result"
    }
   ],
   "source": [
    "df['Course'].nunique()"
   ]
  },
  {
   "cell_type": "code",
   "execution_count": 11,
   "id": "fa5db169",
   "metadata": {},
   "outputs": [
    {
     "name": "stderr",
     "output_type": "stream",
     "text": [
      "D:\\anaconda\\lib\\site-packages\\fuzzywuzzy\\fuzz.py:11: UserWarning: Using slow pure-python SequenceMatcher. Install python-Levenshtein to remove this warning\n",
      "  warnings.warn('Using slow pure-python SequenceMatcher. Install python-Levenshtein to remove this warning')\n"
     ]
    }
   ],
   "source": [
    "from fuzzywuzzy import process\n",
    "import fuzzywuzzy\n",
    "\n",
    "def replace_matches_in_column(df, column, string_to_match, thresh = 55):\n",
    "    strings = df[column].unique()\n",
    "    matches = fuzzywuzzy.process.extract(string_to_match, strings, limit=20, scorer=fuzzywuzzy.fuzz.token_sort_ratio)\n",
    "    close_matches = [match[0] for match in matches if match[1] >= thresh]\n",
    "    rows_with_matches = df[column].isin(close_matches)\n",
    "    df.loc[rows_with_matches, column] = string_to_match"
   ]
  },
  {
   "cell_type": "code",
   "execution_count": 12,
   "id": "38094491",
   "metadata": {},
   "outputs": [
    {
     "name": "stdout",
     "output_type": "stream",
     "text": [
      "replace possible duplicate entries!\n"
     ]
    }
   ],
   "source": [
    "for x in df['Course'].unique():\n",
    "    replace_matches_in_column(df, 'Course', x, 90)\n",
    "\n",
    "print('replace possible duplicate entries!')"
   ]
  },
  {
   "cell_type": "code",
   "execution_count": 13,
   "id": "c6c1c5b8",
   "metadata": {
    "scrolled": true
   },
   "outputs": [
    {
     "data": {
      "text/plain": [
       "Bachelor of Science in Computation and Data Sciences                                              15\n",
       "Bachelor of Science in Accountancy                                                                 8\n",
       "Bachelor of Science in Nursing                                                                     6\n",
       "Bachelor Of Science in Computer Science Major in Application Development                           6\n",
       "Bachelor of Science Major in Psychology                                                            5\n",
       "Bachelor of Science in Civil Engineering                                                           4\n",
       "Bachelor of Science in Information Technology                                                      4\n",
       "Bachelor of Science in Computer Science                                                            4\n",
       "Bachelor of science Business Administration                                                        4\n",
       "Bachelor of Science in Office Administration                                                       4\n",
       "BACHELOR OF SCIENCE IN ELECTRICAL ENGINEERING                                                      2\n",
       "Bachelor of Science in Business Administration Major in Human Resource Development Management      2\n",
       "Bachelor of Science in Tourism Management                                                          2\n",
       "Bachelor of Science in Business Administration major in Marketing Management                       2\n",
       "Diploma in civil engineering technology                                                            2\n",
       "Bachelor of Science in Hospitality Management                                                      2\n",
       "Bachelor of Science in Application  Development                                                    2\n",
       "Bachelor of Secondary Education Major in Filipino                                                  2\n",
       "Bachelor of Science in Radiologic Technology                                                       2\n",
       "Bachelor of Science in Environmental Science                                                       2\n",
       "Bachelor of Engineering Technology Major in Electronics Technology                                 2\n",
       "Bachelor of Science in Biology                                                                     2\n",
       "Bachelor of Science in Architecture                                                                2\n",
       "Bachelor of Science in Management Accounting                                                       2\n",
       "Bachelor in Graphics Technology Major in Architectural Technology                                  1\n",
       "BACHELOR OF BUSINESS ADMININISTRATION MAJOR IN HUMAN RESOURCE DEVELOPMENT                          1\n",
       "Bachelor of Secondary Education major in Math                                                      1\n",
       "Bachelor of Science in  Industrial Engineering                                                     1\n",
       "Bachelor of Science of Office Management                                                           1\n",
       "Bachelor of Science in Education major in English program                                          1\n",
       "Doctor of Optometry                                                                                1\n",
       "DIPLOMA IN INDUSTRIAL FACILITIES TECHNOLOGYMAJOR IN SERVICE MECHANICS                              1\n",
       "Diploma in Civil Engineering Technology (Ladderized)                                               1\n",
       "Bachelor of Science in Instrumentatiin and Control Engineering                                     1\n",
       "Bachelor of Science in Mechanical Engineering                                                      1\n",
       "Bachelor of Early Childhood Education                                                              1\n",
       "Bachelor of Science in Railway Engineering                                                         1\n",
       "Bachelor in Secondary  Education Major in Mathematics                                              1\n",
       "Bachelor of Secondary Education Major in Social Studies                                            1\n",
       "Bachelor in Multimedia Arts Major in Animation                                                     1\n",
       "Bachelor of Science in College of Computing in Information Science                                 1\n",
       "Bachelor of Physical Education                                                                     1\n",
       "Bachelor of Science in Aviation Electronics Technology                                             1\n",
       "Bachelor of Engineering Technology in Non-Destructive Testing Engineering                          1\n",
       " Bachelor of Science in Food Technology                                                            1\n",
       "BACHELOR OF SCIENCE IN INFORMATION TECHNOLOGYMAJOR IN INFORMATION AND NETWORK SECURITY             1\n",
       "Bachelor of Science in Medical Technology                                                          1\n",
       "Name: Course, dtype: int64"
      ]
     },
     "execution_count": 13,
     "metadata": {},
     "output_type": "execute_result"
    }
   ],
   "source": [
    "df['Course'].value_counts()"
   ]
  },
  {
   "cell_type": "code",
   "execution_count": 14,
   "id": "51fa5f17",
   "metadata": {},
   "outputs": [
    {
     "data": {
      "text/plain": [
       "47"
      ]
     },
     "execution_count": 14,
     "metadata": {},
     "output_type": "execute_result"
    }
   ],
   "source": [
    "df['Course'].nunique()"
   ]
  },
  {
   "cell_type": "markdown",
   "id": "6f6218c9",
   "metadata": {},
   "source": [
    "There are multiple duplicated entry. The solution was using fuzzy wuzzy to transform all the related features into 1 value only."
   ]
  },
  {
   "cell_type": "markdown",
   "id": "b458f42b",
   "metadata": {},
   "source": [
    "# Inspecting GWA"
   ]
  },
  {
   "cell_type": "code",
   "execution_count": 15,
   "id": "f3165239",
   "metadata": {
    "scrolled": true
   },
   "outputs": [
    {
     "data": {
      "text/plain": [
       "1.7500    16\n",
       "1.5000    12\n",
       "1.4200     4\n",
       "1.2100     3\n",
       "1.3300     3\n",
       "1.5300     3\n",
       "1.1400     3\n",
       "1.7200     3\n",
       "1.7100     3\n",
       "1.1800     3\n",
       "1.7900     2\n",
       "1.4900     2\n",
       "1.7000     2\n",
       "1.2900     2\n",
       "1.4500     2\n",
       "1.4300     2\n",
       "1.3100     2\n",
       "1.8000     2\n",
       "1.3000     2\n",
       "1.5700     2\n",
       "1.9800     1\n",
       "1.0600     1\n",
       "1.8903     1\n",
       "1.2500     1\n",
       "1.9600     1\n",
       "1.7400     1\n",
       "1.4400     1\n",
       "1.2000     1\n",
       "1.1100     1\n",
       "2.7000     1\n",
       "1.3400     1\n",
       "1.6500     1\n",
       "1.2200     1\n",
       "1.5800     1\n",
       "1.2969     1\n",
       "1.8900     1\n",
       "2.3000     1\n",
       "2.0000     1\n",
       "1.6300     1\n",
       "1.0000     1\n",
       "1.6800     1\n",
       "1.3600     1\n",
       "1.5200     1\n",
       "1.9100     1\n",
       "2.2100     1\n",
       "1.9300     1\n",
       "1.5940     1\n",
       "1.3200     1\n",
       "1.4600     1\n",
       "1.9000     1\n",
       "2.2500     1\n",
       "2.1000     1\n",
       "1.1300     1\n",
       "1.8800     1\n",
       "2.0500     1\n",
       "1.0900     1\n",
       "1.6700     1\n",
       "3.7600     1\n",
       "Name: Last Semester GWA (Generated Weighted Average)?, dtype: int64"
      ]
     },
     "execution_count": 15,
     "metadata": {},
     "output_type": "execute_result"
    }
   ],
   "source": [
    "df['Last Semester GWA (Generated Weighted Average)?'].value_counts()"
   ]
  },
  {
   "cell_type": "markdown",
   "id": "e23ea1fc",
   "metadata": {},
   "source": [
    "No problem with the GWA"
   ]
  },
  {
   "cell_type": "markdown",
   "id": "4235a030",
   "metadata": {},
   "source": [
    "# Processing OCEAN"
   ]
  },
  {
   "cell_type": "code",
   "execution_count": 16,
   "id": "4b6fb4c7",
   "metadata": {},
   "outputs": [
    {
     "data": {
      "text/html": [
       "<div>\n",
       "<style scoped>\n",
       "    .dataframe tbody tr th:only-of-type {\n",
       "        vertical-align: middle;\n",
       "    }\n",
       "\n",
       "    .dataframe tbody tr th {\n",
       "        vertical-align: top;\n",
       "    }\n",
       "\n",
       "    .dataframe thead th {\n",
       "        text-align: right;\n",
       "    }\n",
       "</style>\n",
       "<table border=\"1\" class=\"dataframe\">\n",
       "  <thead>\n",
       "    <tr style=\"text-align: right;\">\n",
       "      <th></th>\n",
       "      <th>1. Have a rich vocabulary</th>\n",
       "      <th>2. Have difficulty understanding abstract ideas</th>\n",
       "      <th>3. Have a vivid imagination</th>\n",
       "      <th>4. Am not interested in abstract ideas</th>\n",
       "      <th>5. Have excellent ideas</th>\n",
       "      <th>6. Do not have a good imagination</th>\n",
       "      <th>7. Am quick to understand things</th>\n",
       "      <th>8. Use difficult words</th>\n",
       "      <th>9. Spend time reflecting on things</th>\n",
       "      <th>10. Am full of ideas</th>\n",
       "    </tr>\n",
       "  </thead>\n",
       "  <tbody>\n",
       "    <tr>\n",
       "      <th>0</th>\n",
       "      <td>4</td>\n",
       "      <td>5</td>\n",
       "      <td>3</td>\n",
       "      <td>3</td>\n",
       "      <td>4</td>\n",
       "      <td>3</td>\n",
       "      <td>4</td>\n",
       "      <td>5</td>\n",
       "      <td>5</td>\n",
       "      <td>3</td>\n",
       "    </tr>\n",
       "    <tr>\n",
       "      <th>1</th>\n",
       "      <td>4</td>\n",
       "      <td>2</td>\n",
       "      <td>4</td>\n",
       "      <td>2</td>\n",
       "      <td>3</td>\n",
       "      <td>4</td>\n",
       "      <td>4</td>\n",
       "      <td>4</td>\n",
       "      <td>5</td>\n",
       "      <td>3</td>\n",
       "    </tr>\n",
       "    <tr>\n",
       "      <th>2</th>\n",
       "      <td>5</td>\n",
       "      <td>2</td>\n",
       "      <td>5</td>\n",
       "      <td>5</td>\n",
       "      <td>3</td>\n",
       "      <td>4</td>\n",
       "      <td>5</td>\n",
       "      <td>3</td>\n",
       "      <td>5</td>\n",
       "      <td>4</td>\n",
       "    </tr>\n",
       "    <tr>\n",
       "      <th>3</th>\n",
       "      <td>3</td>\n",
       "      <td>2</td>\n",
       "      <td>3</td>\n",
       "      <td>1</td>\n",
       "      <td>4</td>\n",
       "      <td>3</td>\n",
       "      <td>4</td>\n",
       "      <td>2</td>\n",
       "      <td>5</td>\n",
       "      <td>3</td>\n",
       "    </tr>\n",
       "    <tr>\n",
       "      <th>4</th>\n",
       "      <td>3</td>\n",
       "      <td>4</td>\n",
       "      <td>4</td>\n",
       "      <td>5</td>\n",
       "      <td>3</td>\n",
       "      <td>2</td>\n",
       "      <td>3</td>\n",
       "      <td>2</td>\n",
       "      <td>2</td>\n",
       "      <td>3</td>\n",
       "    </tr>\n",
       "    <tr>\n",
       "      <th>...</th>\n",
       "      <td>...</td>\n",
       "      <td>...</td>\n",
       "      <td>...</td>\n",
       "      <td>...</td>\n",
       "      <td>...</td>\n",
       "      <td>...</td>\n",
       "      <td>...</td>\n",
       "      <td>...</td>\n",
       "      <td>...</td>\n",
       "      <td>...</td>\n",
       "    </tr>\n",
       "    <tr>\n",
       "      <th>106</th>\n",
       "      <td>3</td>\n",
       "      <td>3</td>\n",
       "      <td>3</td>\n",
       "      <td>2</td>\n",
       "      <td>3</td>\n",
       "      <td>3</td>\n",
       "      <td>3</td>\n",
       "      <td>3</td>\n",
       "      <td>4</td>\n",
       "      <td>3</td>\n",
       "    </tr>\n",
       "    <tr>\n",
       "      <th>107</th>\n",
       "      <td>4</td>\n",
       "      <td>3</td>\n",
       "      <td>3</td>\n",
       "      <td>2</td>\n",
       "      <td>3</td>\n",
       "      <td>2</td>\n",
       "      <td>4</td>\n",
       "      <td>3</td>\n",
       "      <td>4</td>\n",
       "      <td>3</td>\n",
       "    </tr>\n",
       "    <tr>\n",
       "      <th>108</th>\n",
       "      <td>2</td>\n",
       "      <td>2</td>\n",
       "      <td>4</td>\n",
       "      <td>3</td>\n",
       "      <td>3</td>\n",
       "      <td>2</td>\n",
       "      <td>4</td>\n",
       "      <td>1</td>\n",
       "      <td>3</td>\n",
       "      <td>3</td>\n",
       "    </tr>\n",
       "    <tr>\n",
       "      <th>109</th>\n",
       "      <td>3</td>\n",
       "      <td>2</td>\n",
       "      <td>4</td>\n",
       "      <td>1</td>\n",
       "      <td>4</td>\n",
       "      <td>3</td>\n",
       "      <td>4</td>\n",
       "      <td>3</td>\n",
       "      <td>5</td>\n",
       "      <td>4</td>\n",
       "    </tr>\n",
       "    <tr>\n",
       "      <th>110</th>\n",
       "      <td>5</td>\n",
       "      <td>4</td>\n",
       "      <td>5</td>\n",
       "      <td>2</td>\n",
       "      <td>5</td>\n",
       "      <td>2</td>\n",
       "      <td>5</td>\n",
       "      <td>4</td>\n",
       "      <td>4</td>\n",
       "      <td>4</td>\n",
       "    </tr>\n",
       "  </tbody>\n",
       "</table>\n",
       "<p>111 rows × 10 columns</p>\n",
       "</div>"
      ],
      "text/plain": [
       "     1. Have a rich vocabulary  \\\n",
       "0                            4   \n",
       "1                            4   \n",
       "2                            5   \n",
       "3                            3   \n",
       "4                            3   \n",
       "..                         ...   \n",
       "106                          3   \n",
       "107                          4   \n",
       "108                          2   \n",
       "109                          3   \n",
       "110                          5   \n",
       "\n",
       "     2. Have difficulty understanding abstract ideas  \\\n",
       "0                                                  5   \n",
       "1                                                  2   \n",
       "2                                                  2   \n",
       "3                                                  2   \n",
       "4                                                  4   \n",
       "..                                               ...   \n",
       "106                                                3   \n",
       "107                                                3   \n",
       "108                                                2   \n",
       "109                                                2   \n",
       "110                                                4   \n",
       "\n",
       "     3. Have a vivid imagination  4. Am not interested in abstract ideas  \\\n",
       "0                              3                                       3   \n",
       "1                              4                                       2   \n",
       "2                              5                                       5   \n",
       "3                              3                                       1   \n",
       "4                              4                                       5   \n",
       "..                           ...                                     ...   \n",
       "106                            3                                       2   \n",
       "107                            3                                       2   \n",
       "108                            4                                       3   \n",
       "109                            4                                       1   \n",
       "110                            5                                       2   \n",
       "\n",
       "     5. Have excellent ideas  6. Do not have a good imagination  \\\n",
       "0                          4                                  3   \n",
       "1                          3                                  4   \n",
       "2                          3                                  4   \n",
       "3                          4                                  3   \n",
       "4                          3                                  2   \n",
       "..                       ...                                ...   \n",
       "106                        3                                  3   \n",
       "107                        3                                  2   \n",
       "108                        3                                  2   \n",
       "109                        4                                  3   \n",
       "110                        5                                  2   \n",
       "\n",
       "     7. Am quick to understand things  8. Use difficult words  \\\n",
       "0                                   4                       5   \n",
       "1                                   4                       4   \n",
       "2                                   5                       3   \n",
       "3                                   4                       2   \n",
       "4                                   3                       2   \n",
       "..                                ...                     ...   \n",
       "106                                 3                       3   \n",
       "107                                 4                       3   \n",
       "108                                 4                       1   \n",
       "109                                 4                       3   \n",
       "110                                 5                       4   \n",
       "\n",
       "     9. Spend time reflecting on things  10. Am full of ideas  \n",
       "0                                     5                     3  \n",
       "1                                     5                     3  \n",
       "2                                     5                     4  \n",
       "3                                     5                     3  \n",
       "4                                     2                     3  \n",
       "..                                  ...                   ...  \n",
       "106                                   4                     3  \n",
       "107                                   4                     3  \n",
       "108                                   3                     3  \n",
       "109                                   5                     4  \n",
       "110                                   4                     4  \n",
       "\n",
       "[111 rows x 10 columns]"
      ]
     },
     "execution_count": 16,
     "metadata": {},
     "output_type": "execute_result"
    }
   ],
   "source": [
    "df.iloc[:,5:15]"
   ]
  },
  {
   "cell_type": "code",
   "execution_count": 17,
   "id": "aa776558",
   "metadata": {},
   "outputs": [],
   "source": [
    "df['Openness to Experience'] = 8 + df.iloc[:,5] - df.iloc[:,6] + df.iloc[:,7] - df.iloc[:,8] + df.iloc[:,9] - df.iloc[:,10] + df.iloc[:,11] + df.iloc[:,12] + df.iloc[:,13] + df.iloc[:,14]\n",
    "df['Conscientiousness'] = 14 +  df.iloc[:,15] - df.iloc[:,16] + df.iloc[:,17] - df.iloc[:,18] + df.iloc[:,19] - df.iloc[:,20] + df.iloc[:,21] - df.iloc[:,22] + df.iloc[:,23] + df.iloc[:,24]\n",
    "df['Extroversion'] = 20 +  df.iloc[:,25] - df.iloc[:,26] + df.iloc[:,27] - df.iloc[:,28] + df.iloc[:,29] - df.iloc[:,30] + df.iloc[:,31] - df.iloc[:,32] + df.iloc[:,33] - df.iloc[:,34]\n",
    "df['Agreeableness'] = 14 - df.iloc[:,35] + df.iloc[:,36] - df.iloc[:,37] + df.iloc[:,38] - df.iloc[:,39] + df.iloc[:,40] - df.iloc[:,41] + df.iloc[:,42] + df.iloc[:,43] + df.iloc[:,44]\n",
    "df['Neuroticism'] = 38 - df.iloc[:,45] + df.iloc[:,46] - df.iloc[:,47] + df.iloc[:,48] - df.iloc[:,49] - df.iloc[:,50] - df.iloc[:,51] - df.iloc[:,52] - df.iloc[:,53] - df.iloc[:,54]"
   ]
  },
  {
   "cell_type": "markdown",
   "id": "0f77affd",
   "metadata": {},
   "source": [
    "We transform the results of the questions into the Big Five Personality (OCEAN). This is calculated using the formula from: https://openpsychometrics.org/printable/big-five-personality-test.pdf "
   ]
  },
  {
   "cell_type": "markdown",
   "id": "e7d3594d",
   "metadata": {},
   "source": [
    "# Finalizing all the Features"
   ]
  },
  {
   "cell_type": "code",
   "execution_count": 18,
   "id": "41d69da8",
   "metadata": {
    "scrolled": true
   },
   "outputs": [
    {
     "data": {
      "text/plain": [
       "Index(['Age', 'Gender', 'Year', 'Course',\n",
       "       'Last Semester GWA (Generated Weighted Average)?',\n",
       "       '1. Have a rich vocabulary',\n",
       "       '2. Have difficulty understanding abstract ideas',\n",
       "       '3. Have a vivid imagination', '4. Am not interested in abstract ideas',\n",
       "       '5. Have excellent ideas', '6. Do not have a good imagination',\n",
       "       '7. Am quick to understand things', '8. Use difficult words',\n",
       "       '9. Spend time reflecting on things', '10. Am full of ideas',\n",
       "       '1. Am always prepared.', '2. Leave my belongings around',\n",
       "       '3. Pay attention to details', '4. Make a mess of things',\n",
       "       '5. Get chores done right away',\n",
       "       '6. Often forget to put things back in their proper place',\n",
       "       '7. Like order', '8. Shirk my duties', '9. Follow a schedule',\n",
       "       '10. Am exacting in my work', '1. Am the life of the party',\n",
       "       '2. Don't talk a lot', '3. Feel comfortable around people',\n",
       "       '4. Keep in the background', '5. Start conversations',\n",
       "       '6. Have little to say',\n",
       "       '7. Talk to a lot of different people at parties',\n",
       "       '8. Don't like to draw attention to myself',\n",
       "       '9. Don't mind being the center of attention',\n",
       "       '10. Am quiet around strangers', '1. Feel little concern for others',\n",
       "       '2. Am interested in people', '3. Insult people',\n",
       "       '4. Sympathize with others' feelings',\n",
       "       '5. Am not interested in other people's problems',\n",
       "       '6. Have a soft heart', '7. Am not really interested in others',\n",
       "       '8. Take time out for others', '9. Feel others' emotions',\n",
       "       '10. Make people feel at ease', '1. Get stressed out easily',\n",
       "       '2. Am relaxed most of the time', '3. Worry about things',\n",
       "       '4. Seldom feel blue', '5. Am easily disturbed', '6. Get upset easily',\n",
       "       '7. Change my mood a lot', '8. Have frequent mood swings',\n",
       "       '9. Get irritated easily', '10. Often feel blue',\n",
       "       'Openness to Experience', 'Conscientiousness', 'Extroversion',\n",
       "       'Agreeableness', 'Neuroticism'],\n",
       "      dtype='object')"
      ]
     },
     "execution_count": 18,
     "metadata": {},
     "output_type": "execute_result"
    }
   ],
   "source": [
    "df.columns"
   ]
  },
  {
   "cell_type": "code",
   "execution_count": 19,
   "id": "91eb4e4b",
   "metadata": {
    "scrolled": true
   },
   "outputs": [
    {
     "data": {
      "text/plain": [
       "Index(['age', 'gender', 'year', 'course', 'gwa', '1._have_a_rich_vocabulary',\n",
       "       '2._have_difficulty_understanding_abstract_ideas',\n",
       "       '3._have_a_vivid_imagination', '4._am_not_interested_in_abstract_ideas',\n",
       "       '5._have_excellent_ideas', '6._do_not_have_a_good_imagination',\n",
       "       '7._am_quick_to_understand_things', '8._use_difficult_words',\n",
       "       '9._spend_time_reflecting_on_things', '10._am_full_of_ideas',\n",
       "       '1._am_always_prepared.', '2._leave_my_belongings_around',\n",
       "       '3._pay_attention_to_details', '4._make_a_mess_of_things',\n",
       "       '5._get_chores_done_right_away',\n",
       "       '6._often_forget_to_put_things_back_in_their_proper_place',\n",
       "       '7._like_order', '8._shirk_my_duties', '9._follow_a_schedule',\n",
       "       '10._am_exacting_in_my_work', '1._am_the_life_of_the_party',\n",
       "       '2._don't_talk_a_lot', '3._feel_comfortable_around_people',\n",
       "       '4._keep_in_the_background', '5._start_conversations',\n",
       "       '6._have_little_to_say',\n",
       "       '7._talk_to_a_lot_of_different_people_at_parties',\n",
       "       '8._don't_like_to_draw_attention_to_myself',\n",
       "       '9._don't_mind_being_the_center_of_attention',\n",
       "       '10._am_quiet_around_strangers', '1._feel_little_concern_for_others',\n",
       "       '2._am_interested_in_people', '3._insult_people',\n",
       "       '4._sympathize_with_others'_feelings',\n",
       "       '5._am_not_interested_in_other_people's_problems',\n",
       "       '6._have_a_soft_heart', '7._am_not_really_interested_in_others',\n",
       "       '8._take_time_out_for_others', '9._feel_others'_emotions',\n",
       "       '10._make_people_feel_at_ease', '1._get_stressed_out_easily',\n",
       "       '2._am_relaxed_most_of_the_time', '3._worry_about_things',\n",
       "       '4._seldom_feel_blue', '5._am_easily_disturbed', '6._get_upset_easily',\n",
       "       '7._change_my_mood_a_lot', '8._have_frequent_mood_swings',\n",
       "       '9._get_irritated_easily', '10._often_feel_blue',\n",
       "       'openness_to_experience', 'conscientiousness', 'extroversion',\n",
       "       'agreeableness', 'neuroticism'],\n",
       "      dtype='object')"
      ]
     },
     "execution_count": 19,
     "metadata": {},
     "output_type": "execute_result"
    }
   ],
   "source": [
    "df.columns = df.columns.str.replace(' ', '_').str.lower()\n",
    "df.rename(columns = {'last_semester_gwa_(generated_weighted_average)?':'gwa'}, inplace=True)\n",
    "df.columns"
   ]
  },
  {
   "cell_type": "code",
   "execution_count": 20,
   "id": "a6142310",
   "metadata": {},
   "outputs": [
    {
     "data": {
      "text/html": [
       "<div>\n",
       "<style scoped>\n",
       "    .dataframe tbody tr th:only-of-type {\n",
       "        vertical-align: middle;\n",
       "    }\n",
       "\n",
       "    .dataframe tbody tr th {\n",
       "        vertical-align: top;\n",
       "    }\n",
       "\n",
       "    .dataframe thead th {\n",
       "        text-align: right;\n",
       "    }\n",
       "</style>\n",
       "<table border=\"1\" class=\"dataframe\">\n",
       "  <thead>\n",
       "    <tr style=\"text-align: right;\">\n",
       "      <th></th>\n",
       "      <th>age</th>\n",
       "      <th>gender</th>\n",
       "      <th>year</th>\n",
       "      <th>course</th>\n",
       "      <th>gwa</th>\n",
       "      <th>openness_to_experience</th>\n",
       "      <th>conscientiousness</th>\n",
       "      <th>extroversion</th>\n",
       "      <th>agreeableness</th>\n",
       "      <th>neuroticism</th>\n",
       "    </tr>\n",
       "  </thead>\n",
       "  <tbody>\n",
       "    <tr>\n",
       "      <th>0</th>\n",
       "      <td>21</td>\n",
       "      <td>Male</td>\n",
       "      <td>Third</td>\n",
       "      <td>Bachelor of Science in Computation and Data Sc...</td>\n",
       "      <td>1.21</td>\n",
       "      <td>25</td>\n",
       "      <td>28</td>\n",
       "      <td>22</td>\n",
       "      <td>25</td>\n",
       "      <td>22</td>\n",
       "    </tr>\n",
       "    <tr>\n",
       "      <th>1</th>\n",
       "      <td>22</td>\n",
       "      <td>Female</td>\n",
       "      <td>Third</td>\n",
       "      <td>Bachelor of Science in Computation and Data Sc...</td>\n",
       "      <td>1.43</td>\n",
       "      <td>27</td>\n",
       "      <td>36</td>\n",
       "      <td>7</td>\n",
       "      <td>20</td>\n",
       "      <td>28</td>\n",
       "    </tr>\n",
       "    <tr>\n",
       "      <th>2</th>\n",
       "      <td>21</td>\n",
       "      <td>Male</td>\n",
       "      <td>Third</td>\n",
       "      <td>Bachelor of Science in Computation and Data Sc...</td>\n",
       "      <td>1.30</td>\n",
       "      <td>27</td>\n",
       "      <td>32</td>\n",
       "      <td>35</td>\n",
       "      <td>30</td>\n",
       "      <td>9</td>\n",
       "    </tr>\n",
       "    <tr>\n",
       "      <th>3</th>\n",
       "      <td>22</td>\n",
       "      <td>Male</td>\n",
       "      <td>Third</td>\n",
       "      <td>Bachelor of Engineering Technology in Non-Dest...</td>\n",
       "      <td>1.75</td>\n",
       "      <td>26</td>\n",
       "      <td>27</td>\n",
       "      <td>18</td>\n",
       "      <td>28</td>\n",
       "      <td>20</td>\n",
       "    </tr>\n",
       "    <tr>\n",
       "      <th>4</th>\n",
       "      <td>20</td>\n",
       "      <td>Female</td>\n",
       "      <td>Second</td>\n",
       "      <td>Bachelor of science Business Administration</td>\n",
       "      <td>1.75</td>\n",
       "      <td>17</td>\n",
       "      <td>17</td>\n",
       "      <td>16</td>\n",
       "      <td>24</td>\n",
       "      <td>10</td>\n",
       "    </tr>\n",
       "  </tbody>\n",
       "</table>\n",
       "</div>"
      ],
      "text/plain": [
       "   age  gender    year                                             course  \\\n",
       "0   21    Male   Third  Bachelor of Science in Computation and Data Sc...   \n",
       "1   22  Female   Third  Bachelor of Science in Computation and Data Sc...   \n",
       "2   21    Male   Third  Bachelor of Science in Computation and Data Sc...   \n",
       "3   22    Male   Third  Bachelor of Engineering Technology in Non-Dest...   \n",
       "4   20  Female  Second        Bachelor of science Business Administration   \n",
       "\n",
       "    gwa  openness_to_experience  conscientiousness  extroversion  \\\n",
       "0  1.21                      25                 28            22   \n",
       "1  1.43                      27                 36             7   \n",
       "2  1.30                      27                 32            35   \n",
       "3  1.75                      26                 27            18   \n",
       "4  1.75                      17                 17            16   \n",
       "\n",
       "   agreeableness  neuroticism  \n",
       "0             25           22  \n",
       "1             20           28  \n",
       "2             30            9  \n",
       "3             28           20  \n",
       "4             24           10  "
      ]
     },
     "execution_count": 20,
     "metadata": {},
     "output_type": "execute_result"
    }
   ],
   "source": [
    "cols = ['age', 'gender', 'year', 'course', 'gwa', 'openness_to_experience',\n",
    "        'conscientiousness', 'extroversion','agreeableness', 'neuroticism']\n",
    "\n",
    "clean_df = df[cols]\n",
    "clean_df.head()"
   ]
  },
  {
   "cell_type": "code",
   "execution_count": 21,
   "id": "e4c4641f",
   "metadata": {},
   "outputs": [
    {
     "data": {
      "text/plain": [
       "(111, 10)"
      ]
     },
     "execution_count": 21,
     "metadata": {},
     "output_type": "execute_result"
    }
   ],
   "source": [
    "clean_df.shape"
   ]
  },
  {
   "cell_type": "markdown",
   "id": "0264f09b",
   "metadata": {},
   "source": [
    "The final dataset contains 111 rows and 10 features. All respective data entries are fixed and ready for further processing."
   ]
  },
  {
   "cell_type": "markdown",
   "id": "6ef6f3d8",
   "metadata": {},
   "source": [
    "# Checking Outliers"
   ]
  },
  {
   "cell_type": "code",
   "execution_count": 22,
   "id": "073c0a2a",
   "metadata": {},
   "outputs": [],
   "source": [
    "def check_outliers(df, column):\n",
    "    per25, per75 = np.percentile(df[column], [25, 75])\n",
    "    iqr = per75 - per25\n",
    "    lb = per25 - (1.5 * iqr)\n",
    "    up = per75 + (1.5 * iqr)\n",
    "    return df[(df[column] < lb) | (df[column] > up)].index, up\n",
    "\n",
    "def treat_outliers(df, column, state):\n",
    "    indexes, upbound = check_outliers(df, column)\n",
    "    if state == 'delete':\n",
    "        df.drop(indexes, axis = 0, inplace=True)\n",
    "        print('Outlier Deleted!')\n",
    "    elif state == 'cap':\n",
    "        for x in indexes:\n",
    "            df.loc[x, column] = upbound\n",
    "        print('Ouliter Cappped!')"
   ]
  },
  {
   "cell_type": "code",
   "execution_count": 23,
   "id": "c4881087",
   "metadata": {},
   "outputs": [
    {
     "data": {
      "text/plain": [
       "(Int64Index([57, 110], dtype='int64'), 2.3725)"
      ]
     },
     "execution_count": 23,
     "metadata": {},
     "output_type": "execute_result"
    }
   ],
   "source": [
    "check_outliers(clean_df, 'gwa')"
   ]
  },
  {
   "cell_type": "code",
   "execution_count": 24,
   "id": "197641b2",
   "metadata": {},
   "outputs": [
    {
     "name": "stdout",
     "output_type": "stream",
     "text": [
      "Ouliter Cappped!\n"
     ]
    },
    {
     "name": "stderr",
     "output_type": "stream",
     "text": [
      "D:\\anaconda\\lib\\site-packages\\pandas\\core\\indexing.py:1817: SettingWithCopyWarning: \n",
      "A value is trying to be set on a copy of a slice from a DataFrame.\n",
      "Try using .loc[row_indexer,col_indexer] = value instead\n",
      "\n",
      "See the caveats in the documentation: https://pandas.pydata.org/pandas-docs/stable/user_guide/indexing.html#returning-a-view-versus-a-copy\n",
      "  self._setitem_single_column(loc, value, pi)\n"
     ]
    }
   ],
   "source": [
    "treat_outliers(clean_df, 'gwa', 'cap')"
   ]
  },
  {
   "cell_type": "code",
   "execution_count": 25,
   "id": "60638b82",
   "metadata": {},
   "outputs": [
    {
     "data": {
      "text/plain": [
       "(Int64Index([], dtype='int64'), 2.3725)"
      ]
     },
     "execution_count": 25,
     "metadata": {},
     "output_type": "execute_result"
    }
   ],
   "source": [
    "check_outliers(clean_df, 'gwa')"
   ]
  },
  {
   "cell_type": "code",
   "execution_count": 26,
   "id": "6816de11",
   "metadata": {},
   "outputs": [
    {
     "data": {
      "text/plain": [
       "(111, 10)"
      ]
     },
     "execution_count": 26,
     "metadata": {},
     "output_type": "execute_result"
    }
   ],
   "source": [
    "clean_df.shape"
   ]
  },
  {
   "cell_type": "markdown",
   "id": "d9bc5a00",
   "metadata": {},
   "source": [
    "Based from our visualizations, there are 2 outliers in gwa feature. We checked it using 1.5 iqr. Since the data is limited, we capped the outliers into the upper bound instead of droppping them."
   ]
  },
  {
   "cell_type": "markdown",
   "id": "f00b533a",
   "metadata": {},
   "source": [
    "# Scaling"
   ]
  },
  {
   "cell_type": "code",
   "execution_count": 27,
   "id": "44b77b50",
   "metadata": {},
   "outputs": [],
   "source": [
    "from sklearn.preprocessing import LabelEncoder, MinMaxScaler"
   ]
  },
  {
   "cell_type": "code",
   "execution_count": 28,
   "id": "a8029394",
   "metadata": {},
   "outputs": [
    {
     "name": "stderr",
     "output_type": "stream",
     "text": [
      "C:\\Users\\rurue\\AppData\\Local\\Temp/ipykernel_1788/3430215838.py:4: SettingWithCopyWarning: \n",
      "A value is trying to be set on a copy of a slice from a DataFrame.\n",
      "Try using .loc[row_indexer,col_indexer] = value instead\n",
      "\n",
      "See the caveats in the documentation: https://pandas.pydata.org/pandas-docs/stable/user_guide/indexing.html#returning-a-view-versus-a-copy\n",
      "  clean_df[x] = encoder.fit_transform(clean_df[x])\n",
      "D:\\anaconda\\lib\\site-packages\\pandas\\core\\frame.py:3678: SettingWithCopyWarning: \n",
      "A value is trying to be set on a copy of a slice from a DataFrame.\n",
      "Try using .loc[row_indexer,col_indexer] = value instead\n",
      "\n",
      "See the caveats in the documentation: https://pandas.pydata.org/pandas-docs/stable/user_guide/indexing.html#returning-a-view-versus-a-copy\n",
      "  self[col] = igetitem(value, i)\n"
     ]
    },
    {
     "data": {
      "text/html": [
       "<div>\n",
       "<style scoped>\n",
       "    .dataframe tbody tr th:only-of-type {\n",
       "        vertical-align: middle;\n",
       "    }\n",
       "\n",
       "    .dataframe tbody tr th {\n",
       "        vertical-align: top;\n",
       "    }\n",
       "\n",
       "    .dataframe thead th {\n",
       "        text-align: right;\n",
       "    }\n",
       "</style>\n",
       "<table border=\"1\" class=\"dataframe\">\n",
       "  <thead>\n",
       "    <tr style=\"text-align: right;\">\n",
       "      <th></th>\n",
       "      <th>age</th>\n",
       "      <th>gender</th>\n",
       "      <th>year</th>\n",
       "      <th>course</th>\n",
       "      <th>gwa</th>\n",
       "      <th>openness_to_experience</th>\n",
       "      <th>conscientiousness</th>\n",
       "      <th>extroversion</th>\n",
       "      <th>agreeableness</th>\n",
       "      <th>neuroticism</th>\n",
       "    </tr>\n",
       "  </thead>\n",
       "  <tbody>\n",
       "    <tr>\n",
       "      <th>0</th>\n",
       "      <td>21</td>\n",
       "      <td>1</td>\n",
       "      <td>3</td>\n",
       "      <td>23</td>\n",
       "      <td>1.21</td>\n",
       "      <td>0.500000</td>\n",
       "      <td>0.62500</td>\n",
       "      <td>0.567568</td>\n",
       "      <td>0.423077</td>\n",
       "      <td>0.709677</td>\n",
       "    </tr>\n",
       "    <tr>\n",
       "      <th>1</th>\n",
       "      <td>22</td>\n",
       "      <td>0</td>\n",
       "      <td>3</td>\n",
       "      <td>23</td>\n",
       "      <td>1.43</td>\n",
       "      <td>0.583333</td>\n",
       "      <td>0.87500</td>\n",
       "      <td>0.162162</td>\n",
       "      <td>0.230769</td>\n",
       "      <td>0.903226</td>\n",
       "    </tr>\n",
       "    <tr>\n",
       "      <th>2</th>\n",
       "      <td>21</td>\n",
       "      <td>1</td>\n",
       "      <td>3</td>\n",
       "      <td>23</td>\n",
       "      <td>1.30</td>\n",
       "      <td>0.583333</td>\n",
       "      <td>0.75000</td>\n",
       "      <td>0.918919</td>\n",
       "      <td>0.615385</td>\n",
       "      <td>0.290323</td>\n",
       "    </tr>\n",
       "    <tr>\n",
       "      <th>3</th>\n",
       "      <td>22</td>\n",
       "      <td>1</td>\n",
       "      <td>3</td>\n",
       "      <td>10</td>\n",
       "      <td>1.75</td>\n",
       "      <td>0.541667</td>\n",
       "      <td>0.59375</td>\n",
       "      <td>0.459459</td>\n",
       "      <td>0.538462</td>\n",
       "      <td>0.645161</td>\n",
       "    </tr>\n",
       "    <tr>\n",
       "      <th>4</th>\n",
       "      <td>20</td>\n",
       "      <td>0</td>\n",
       "      <td>2</td>\n",
       "      <td>42</td>\n",
       "      <td>1.75</td>\n",
       "      <td>0.166667</td>\n",
       "      <td>0.28125</td>\n",
       "      <td>0.405405</td>\n",
       "      <td>0.384615</td>\n",
       "      <td>0.322581</td>\n",
       "    </tr>\n",
       "  </tbody>\n",
       "</table>\n",
       "</div>"
      ],
      "text/plain": [
       "   age  gender  year  course   gwa  openness_to_experience  conscientiousness  \\\n",
       "0   21       1     3      23  1.21                0.500000            0.62500   \n",
       "1   22       0     3      23  1.43                0.583333            0.87500   \n",
       "2   21       1     3      23  1.30                0.583333            0.75000   \n",
       "3   22       1     3      10  1.75                0.541667            0.59375   \n",
       "4   20       0     2      42  1.75                0.166667            0.28125   \n",
       "\n",
       "   extroversion  agreeableness  neuroticism  \n",
       "0      0.567568       0.423077     0.709677  \n",
       "1      0.162162       0.230769     0.903226  \n",
       "2      0.918919       0.615385     0.290323  \n",
       "3      0.459459       0.538462     0.645161  \n",
       "4      0.405405       0.384615     0.322581  "
      ]
     },
     "execution_count": 28,
     "metadata": {},
     "output_type": "execute_result"
    }
   ],
   "source": [
    "encoder = LabelEncoder()\n",
    "scaler = MinMaxScaler()\n",
    "for x in ['gender', 'year', 'course']:\n",
    "    clean_df[x] = encoder.fit_transform(clean_df[x])\n",
    "    \n",
    "cols = ['openness_to_experience','conscientiousness','extroversion','agreeableness','neuroticism']\n",
    "clean_df[cols] = scaler.fit_transform(clean_df[cols])\n",
    "\n",
    "clean_df.head()"
   ]
  },
  {
   "cell_type": "markdown",
   "id": "53a995c1",
   "metadata": {},
   "source": [
    "The MinMax Scaler is calculated using the formula x-min/max-min. These will give us values within 0-1. This is required for reducing computational power and is required for distance based algorithms."
   ]
  },
  {
   "cell_type": "markdown",
   "id": "033be8f0",
   "metadata": {},
   "source": [
    "# Saving clean dataset"
   ]
  },
  {
   "cell_type": "code",
   "execution_count": 29,
   "id": "c46ac26a",
   "metadata": {},
   "outputs": [],
   "source": [
    "clean_df.to_csv('data/clean.csv', index=False)"
   ]
  }
 ],
 "metadata": {
  "kernelspec": {
   "display_name": "Python 3 (ipykernel)",
   "language": "python",
   "name": "python3"
  },
  "language_info": {
   "codemirror_mode": {
    "name": "ipython",
    "version": 3
   },
   "file_extension": ".py",
   "mimetype": "text/x-python",
   "name": "python",
   "nbconvert_exporter": "python",
   "pygments_lexer": "ipython3",
   "version": "3.9.7"
  }
 },
 "nbformat": 4,
 "nbformat_minor": 5
}
